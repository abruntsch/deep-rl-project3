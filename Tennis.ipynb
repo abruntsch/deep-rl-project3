{
 "cells": [
  {
   "cell_type": "markdown",
   "metadata": {},
   "source": [
    "# Collaboration and Competition\n",
    "\n",
    "---\n",
    "\n",
    "In this notebook, a solution for the third project of the [Deep Reinforcement Learning Nanodegree](https://www.udacity.com/course/deep-reinforcement-learning-nanodegree--nd893) is provided.\n",
    "\n",
    "### 1. Setup the Environment\n",
    "\n",
    "At first some necessary packages need to be imported. This requires [Unity ML-Agents](https://github.com/Unity-Technologies/ml-agents/blob/master/docs/Installation.md), [NumPy](http://www.numpy.org/) and [Matplotlib](https://matplotlib.org/) to be installed."
   ]
  },
  {
   "cell_type": "code",
   "execution_count": 1,
   "metadata": {},
   "outputs": [],
   "source": [
    "from unityagents import UnityEnvironment\n",
    "import numpy as np\n",
    "import matplotlib.pyplot as plt\n",
    "%matplotlib inline"
   ]
  },
  {
   "cell_type": "markdown",
   "metadata": {},
   "source": [
    "Next, we will start the environment!  **_Before running the code cell below_**, change the `file_name` parameter to match the location of the Unity environment that you downloaded.\n",
    "\n",
    "- **Mac**: `\"path/to/Tennis.app\"`\n",
    "- **Windows** (x86): `\"path/to/Tennis_Windows_x86/Tennis.exe\"`\n",
    "- **Windows** (x86_64): `\"path/to/Tennis_Windows_x86_64/Tennis.exe\"`\n",
    "- **Linux** (x86): `\"path/to/Tennis_Linux/Tennis.x86\"`\n",
    "- **Linux** (x86_64): `\"path/to/Tennis_Linux/Tennis.x86_64\"`\n",
    "- **Linux** (x86, headless): `\"path/to/Tennis_Linux_NoVis/Tennis.x86\"`\n",
    "- **Linux** (x86_64, headless): `\"path/to/Tennis_Linux_NoVis/Tennis.x86_64\"`\n",
    "\n",
    "For instance, if you are using a Mac, then you downloaded `Tennis.app`.  If this file is in the same folder as the notebook, then the line below should appear as follows:\n",
    "```\n",
    "env = UnityEnvironment(file_name=\"Tennis.app\")\n",
    "```"
   ]
  },
  {
   "cell_type": "code",
   "execution_count": 2,
   "metadata": {},
   "outputs": [
    {
     "name": "stderr",
     "output_type": "stream",
     "text": [
      "INFO:unityagents:\n",
      "'Academy' started successfully!\n",
      "Unity Academy name: Academy\n",
      "        Number of Brains: 1\n",
      "        Number of External Brains : 1\n",
      "        Lesson number : 0\n",
      "        Reset Parameters :\n",
      "\t\t\n",
      "Unity brain name: TennisBrain\n",
      "        Number of Visual Observations (per agent): 0\n",
      "        Vector Observation space type: continuous\n",
      "        Vector Observation space size (per agent): 8\n",
      "        Number of stacked Vector Observation: 3\n",
      "        Vector Action space type: continuous\n",
      "        Vector Action space size (per agent): 2\n",
      "        Vector Action descriptions: , \n"
     ]
    }
   ],
   "source": [
    "env = UnityEnvironment(file_name=\"Tennis_Linux_NoVis/Tennis.x86_64\")"
   ]
  },
  {
   "cell_type": "markdown",
   "metadata": {},
   "source": [
    "Environments contain **_brains_** which are responsible for deciding the actions of their associated agents. Here we check for the first brain available, and set it as the default brain we will be controlling from Python."
   ]
  },
  {
   "cell_type": "code",
   "execution_count": 3,
   "metadata": {},
   "outputs": [],
   "source": [
    "# get the default brain\n",
    "brain_name = env.brain_names[0]\n",
    "brain = env.brains[brain_name]"
   ]
  },
  {
   "cell_type": "markdown",
   "metadata": {},
   "source": [
    "### 2. Examine the State and Action Spaces\n",
    "\n",
    "In this environment, two agents control rackets to bounce a ball over a net. If an agent hits the ball over the net, it receives a reward of +0.1.  If an agent lets a ball hit the ground or hits the ball out of bounds, it receives a reward of -0.01.  Thus, the goal of each agent is to keep the ball in play.\n",
    "\n",
    "The observation space consists of 8 variables corresponding to the position and velocity of the ball and racket. Three subsequent observations are stacked, thus forming a 24-dimensional observation space. Two continuous actions are available, corresponding to movement toward (or away from) the net, and jumping.\n",
    "\n",
    "Run the code cell below to print some information about the environment."
   ]
  },
  {
   "cell_type": "code",
   "execution_count": 4,
   "metadata": {},
   "outputs": [
    {
     "name": "stdout",
     "output_type": "stream",
     "text": [
      "Number of agents: 2\n",
      "Size of each action: 2\n",
      "There are 2 agents. Each observes a state with length: 24\n",
      "The state for the first agent looks like: [ 0.          0.          0.          0.          0.          0.\n",
      "  0.          0.          0.          0.          0.          0.\n",
      "  0.          0.          0.          0.         -6.65278625 -1.5\n",
      " -0.          0.          6.83172083  6.         -0.          0.        ]\n",
      "The state for the second agent looks like: [ 0.          0.          0.          0.          0.          0.\n",
      "  0.          0.          0.          0.          0.          0.\n",
      "  0.          0.          0.          0.         -6.4669857  -1.5\n",
      "  0.          0.         -6.83172083  6.          0.          0.        ]\n"
     ]
    }
   ],
   "source": [
    "# reset the environment\n",
    "env_info = env.reset(train_mode=True)[brain_name]\n",
    "\n",
    "# number of agents \n",
    "num_agents = len(env_info.agents)\n",
    "print('Number of agents:', num_agents)\n",
    "\n",
    "# size of each action\n",
    "action_size = brain.vector_action_space_size\n",
    "print('Size of each action:', action_size)\n",
    "\n",
    "# examine the state space \n",
    "states = env_info.vector_observations\n",
    "state_size = states.shape[1]\n",
    "print('There are {} agents. Each observes a state with length: {}'.format(states.shape[0], state_size))\n",
    "print('The state for the first agent looks like:', states[0])\n",
    "print('The state for the second agent looks like:', states[1])"
   ]
  },
  {
   "cell_type": "markdown",
   "metadata": {},
   "source": [
    "### 3. Create a DDPG Agent\n",
    "\n",
    "In this solution a single DDPG agent that implements an off-policy training with gradient clipping, soft target update, experience replay and noise decay will be trained to solve the tennis environment. It it first initialized with the state and action sizes."
   ]
  },
  {
   "cell_type": "code",
   "execution_count": 5,
   "metadata": {},
   "outputs": [],
   "source": [
    "from ddpg_agent import Agent\n",
    "\n",
    "agent = Agent(state_size=state_size, action_size=action_size, random_seed=1)\n",
    "#agents = [Agent(state_size=state_size, action_size=action_size, random_seed=1) for _ in range(num_agents)]"
   ]
  },
  {
   "cell_type": "markdown",
   "metadata": {},
   "source": [
    "### 4. Define the Training Process\n",
    "The training runs up to 10,000 episodes with up to 1,000 time steps per episode. For each episode the score is calculated as the maximum that either of the two players achieved in total during that episode. Once the mean of this score over the last 100 subsequent episodes hits or exceeds +0.5 points the environement is solved and the training process ends.\n",
    "\n",
    "The actor and critic networks are fully-connected neural networks with two hidden layers of 256 and 196 nodes respectively and relu activations. Before the activations in the first hidden layer a batch normalization is conducted in both networks. The actor has a final tanh activation to retrieve actions in the range -1 to 1."
   ]
  },
  {
   "cell_type": "code",
   "execution_count": 6,
   "metadata": {},
   "outputs": [],
   "source": [
    "from collections import deque\n",
    "\n",
    "\n",
    "def maddpg(n_episodes=10000, max_t=1000, print_every=5):\n",
    "    total_scores_deque = deque(maxlen=100)\n",
    "    total_scores = []                                            # initialize the total scores\n",
    "    for i_episode in range(1, n_episodes+1):\n",
    "        env_info = env.reset(train_mode=True)[brain_name]        # reset the environment\n",
    "        states = env_info.vector_observations                    # get the current states\n",
    "        \n",
    "        agent.reset()\n",
    "        #for i in range(num_agents):\n",
    "        #    agents[i].reset()\n",
    "        scores = np.zeros(num_agents)\n",
    "        for i in range(max_t):\n",
    "            #actions = [agents[i_a].act(states[i_a]) for i_a in range(num_agents)]\n",
    "            actions = agent.act(states)\n",
    "            \n",
    "            env_info = env.step(actions)[brain_name]             # send all actions to the environment\n",
    "            next_states = env_info.vector_observations           # get next state (for each agent)\n",
    "            rewards = env_info.rewards                           # get reward (for each agent)\n",
    "            dones = env_info.local_done                          # see if episode finished\n",
    "            \n",
    "            agent.step(states, actions, rewards, next_states, dones, i % 10 == 0)\n",
    "            #for i_a in range(num_agents):\n",
    "            #    agents[i_a].step(states[i_a], actions[i_a], rewards[i_a], next_states[i_a], dones[i_a], i % 1 == 0)\n",
    "            \n",
    "            states = next_states\n",
    "            scores += rewards\n",
    "            if np.any(dones):\n",
    "                break \n",
    "        \n",
    "        total_scores_deque.append(np.max(scores))                # save scores\n",
    "        total_scores.append(np.max(scores))\n",
    "        \n",
    "        print('\\rEpisode {}\\tAverage Score: {:.2f}'.format(i_episode, np.mean(total_scores_deque)), end=\"\")\n",
    "        \n",
    "        if i_episode % print_every == 0:\n",
    "            print('\\rEpisode {}\\tAverage Score: {:.2f}'.format(i_episode, np.mean(total_scores_deque)))\n",
    "            \n",
    "        if i_episode >= 100 and np.mean(total_scores_deque) >= 0.5:\n",
    "            print('\\r\\nEnvironment solved after {} episodes'.format(i_episode))\n",
    "            break\n",
    "            \n",
    "    return total_scores"
   ]
  },
  {
   "cell_type": "markdown",
   "metadata": {},
   "source": [
    "### 5. Train the DDPG Agent\n",
    "Start the training until an average score of +0.5 is achieved by the agents."
   ]
  },
  {
   "cell_type": "code",
   "execution_count": 7,
   "metadata": {},
   "outputs": [
    {
     "name": "stdout",
     "output_type": "stream",
     "text": [
      "Episode 5\tAverage Score: 0.02\n",
      "Episode 10\tAverage Score: 0.01\n",
      "Episode 15\tAverage Score: 0.01\n",
      "Episode 20\tAverage Score: 0.01\n",
      "Episode 25\tAverage Score: 0.01\n",
      "Episode 30\tAverage Score: 0.01\n",
      "Episode 35\tAverage Score: 0.01\n",
      "Episode 40\tAverage Score: 0.01\n",
      "Episode 45\tAverage Score: 0.01\n",
      "Episode 50\tAverage Score: 0.01\n",
      "Episode 55\tAverage Score: 0.01\n",
      "Episode 60\tAverage Score: 0.01\n",
      "Episode 65\tAverage Score: 0.00\n",
      "Episode 70\tAverage Score: 0.00\n",
      "Episode 75\tAverage Score: 0.00\n",
      "Episode 80\tAverage Score: 0.01\n",
      "Episode 85\tAverage Score: 0.01\n",
      "Episode 90\tAverage Score: 0.01\n",
      "Episode 95\tAverage Score: 0.01\n",
      "Episode 100\tAverage Score: 0.00\n",
      "Episode 105\tAverage Score: 0.00\n",
      "Episode 110\tAverage Score: 0.00\n",
      "Episode 115\tAverage Score: 0.00\n",
      "Episode 120\tAverage Score: 0.00\n",
      "Episode 125\tAverage Score: 0.00\n",
      "Episode 130\tAverage Score: 0.00\n",
      "Episode 135\tAverage Score: 0.00\n",
      "Episode 140\tAverage Score: 0.00\n",
      "Episode 145\tAverage Score: 0.00\n",
      "Episode 150\tAverage Score: 0.00\n",
      "Episode 155\tAverage Score: 0.00\n",
      "Episode 160\tAverage Score: 0.00\n",
      "Episode 165\tAverage Score: 0.00\n",
      "Episode 170\tAverage Score: 0.00\n",
      "Episode 175\tAverage Score: 0.00\n",
      "Episode 180\tAverage Score: 0.00\n",
      "Episode 185\tAverage Score: 0.00\n",
      "Episode 190\tAverage Score: 0.00\n",
      "Episode 195\tAverage Score: 0.00\n",
      "Episode 200\tAverage Score: 0.00\n",
      "Episode 205\tAverage Score: 0.01\n",
      "Episode 210\tAverage Score: 0.01\n",
      "Episode 215\tAverage Score: 0.01\n",
      "Episode 220\tAverage Score: 0.01\n",
      "Episode 225\tAverage Score: 0.01\n",
      "Episode 230\tAverage Score: 0.01\n",
      "Episode 235\tAverage Score: 0.02\n",
      "Episode 240\tAverage Score: 0.02\n",
      "Episode 245\tAverage Score: 0.02\n",
      "Episode 250\tAverage Score: 0.03\n",
      "Episode 255\tAverage Score: 0.03\n",
      "Episode 260\tAverage Score: 0.03\n",
      "Episode 265\tAverage Score: 0.04\n",
      "Episode 270\tAverage Score: 0.04\n",
      "Episode 275\tAverage Score: 0.05\n",
      "Episode 280\tAverage Score: 0.05\n",
      "Episode 285\tAverage Score: 0.05\n",
      "Episode 290\tAverage Score: 0.05\n",
      "Episode 295\tAverage Score: 0.06\n",
      "Episode 300\tAverage Score: 0.06\n",
      "Episode 305\tAverage Score: 0.06\n",
      "Episode 310\tAverage Score: 0.06\n",
      "Episode 315\tAverage Score: 0.06\n",
      "Episode 320\tAverage Score: 0.06\n",
      "Episode 325\tAverage Score: 0.06\n",
      "Episode 330\tAverage Score: 0.06\n",
      "Episode 335\tAverage Score: 0.05\n",
      "Episode 340\tAverage Score: 0.05\n",
      "Episode 345\tAverage Score: 0.04\n",
      "Episode 350\tAverage Score: 0.04\n",
      "Episode 355\tAverage Score: 0.03\n",
      "Episode 360\tAverage Score: 0.03\n",
      "Episode 365\tAverage Score: 0.03\n",
      "Episode 370\tAverage Score: 0.03\n",
      "Episode 375\tAverage Score: 0.03\n",
      "Episode 380\tAverage Score: 0.03\n",
      "Episode 385\tAverage Score: 0.03\n",
      "Episode 390\tAverage Score: 0.02\n",
      "Episode 395\tAverage Score: 0.02\n",
      "Episode 400\tAverage Score: 0.02\n",
      "Episode 405\tAverage Score: 0.02\n",
      "Episode 410\tAverage Score: 0.02\n",
      "Episode 415\tAverage Score: 0.02\n",
      "Episode 420\tAverage Score: 0.03\n",
      "Episode 425\tAverage Score: 0.03\n",
      "Episode 430\tAverage Score: 0.03\n",
      "Episode 435\tAverage Score: 0.03\n",
      "Episode 440\tAverage Score: 0.04\n",
      "Episode 445\tAverage Score: 0.04\n",
      "Episode 450\tAverage Score: 0.04\n",
      "Episode 455\tAverage Score: 0.05\n",
      "Episode 460\tAverage Score: 0.05\n",
      "Episode 465\tAverage Score: 0.05\n",
      "Episode 470\tAverage Score: 0.05\n",
      "Episode 475\tAverage Score: 0.05\n",
      "Episode 480\tAverage Score: 0.06\n",
      "Episode 485\tAverage Score: 0.06\n",
      "Episode 490\tAverage Score: 0.06\n",
      "Episode 495\tAverage Score: 0.07\n",
      "Episode 500\tAverage Score: 0.08\n",
      "Episode 505\tAverage Score: 0.08\n",
      "Episode 510\tAverage Score: 0.09\n",
      "Episode 515\tAverage Score: 0.09\n",
      "Episode 520\tAverage Score: 0.11\n",
      "Episode 525\tAverage Score: 0.12\n",
      "Episode 530\tAverage Score: 0.14\n",
      "Episode 535\tAverage Score: 0.15\n",
      "Episode 540\tAverage Score: 0.15\n",
      "Episode 545\tAverage Score: 0.16\n",
      "Episode 550\tAverage Score: 0.24\n",
      "Episode 555\tAverage Score: 0.26\n",
      "Episode 560\tAverage Score: 0.27\n",
      "Episode 565\tAverage Score: 0.29\n",
      "Episode 570\tAverage Score: 0.32\n",
      "Episode 575\tAverage Score: 0.34\n",
      "Episode 580\tAverage Score: 0.35\n",
      "Episode 585\tAverage Score: 0.36\n",
      "Episode 590\tAverage Score: 0.37\n",
      "Episode 595\tAverage Score: 0.37\n",
      "Episode 600\tAverage Score: 0.37\n",
      "Episode 605\tAverage Score: 0.38\n",
      "Episode 610\tAverage Score: 0.38\n",
      "Episode 615\tAverage Score: 0.39\n",
      "Episode 620\tAverage Score: 0.39\n",
      "Episode 625\tAverage Score: 0.38\n",
      "Episode 630\tAverage Score: 0.38\n",
      "Episode 635\tAverage Score: 0.38\n",
      "Episode 640\tAverage Score: 0.40\n",
      "Episode 645\tAverage Score: 0.42\n",
      "Episode 650\tAverage Score: 0.35\n",
      "Episode 655\tAverage Score: 0.34\n",
      "Episode 660\tAverage Score: 0.37\n",
      "Episode 665\tAverage Score: 0.36\n",
      "Episode 670\tAverage Score: 0.36\n",
      "Episode 675\tAverage Score: 0.36\n",
      "Episode 680\tAverage Score: 0.35\n",
      "Episode 685\tAverage Score: 0.37\n",
      "Episode 690\tAverage Score: 0.37\n",
      "Episode 695\tAverage Score: 0.40\n",
      "Episode 700\tAverage Score: 0.45\n",
      "Episode 705\tAverage Score: 0.46\n",
      "Episode 710\tAverage Score: 0.46\n",
      "Episode 715\tAverage Score: 0.45\n",
      "Episode 720\tAverage Score: 0.46\n",
      "Episode 725\tAverage Score: 0.50\n",
      "Episode 726\tAverage Score: 0.52\n",
      "Environment solved after 726 episodes\n"
     ]
    },
    {
     "data": {
      "image/png": "[encoded data removed]",
      "text/plain": [
       "<Figure size 432x288 with 1 Axes>"
      ]
     },
     "metadata": {
      "needs_background": "light"
     },
     "output_type": "display_data"
    }
   ],
   "source": [
    "scores = maddpg()\n",
    "\n",
    "fig = plt.figure()\n",
    "ax = fig.add_subplot(111)\n",
    "plt.plot(np.arange(1, len(scores)+1), scores)\n",
    "plt.ylabel('Score')\n",
    "plt.xlabel('Episode #')\n",
    "plt.show()"
   ]
  },
  {
   "cell_type": "markdown",
   "metadata": {},
   "source": [
    "### 6. Store Model and Clean Up\n",
    "Save the trained model."
   ]
  },
  {
   "cell_type": "code",
   "execution_count": 8,
   "metadata": {},
   "outputs": [],
   "source": [
    "import torch\n",
    "\n",
    "torch.save(agent.actor_local.state_dict(), 'stored_model_actor.pth')\n",
    "torch.save(agent.critic_local.state_dict(), 'stored_model_critic.pth')"
   ]
  },
  {
   "cell_type": "markdown",
   "metadata": {},
   "source": [
    "When finished, you can close the environment."
   ]
  },
  {
   "cell_type": "code",
   "execution_count": 9,
   "metadata": {},
   "outputs": [],
   "source": [
    "env.close()"
   ]
  }
 ],
 "metadata": {
  "kernelspec": {
   "display_name": "drlnd",
   "language": "python",
   "name": "drlnd"
  },
  "language_info": {
   "codemirror_mode": {
    "name": "ipython",
    "version": 3
   },
   "file_extension": ".py",
   "mimetype": "text/x-python",
   "name": "python",
   "nbconvert_exporter": "python",
   "pygments_lexer": "ipython3",
   "version": "3.6.9"
  }
 },
 "nbformat": 4,
 "nbformat_minor": 2
}
